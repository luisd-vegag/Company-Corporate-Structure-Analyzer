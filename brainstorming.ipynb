{
 "cells": [
  {
   "cell_type": "code",
   "execution_count": 1,
   "metadata": {},
   "outputs": [],
   "source": [
    "from credentials import login"
   ]
  },
  {
   "cell_type": "code",
   "execution_count": 2,
   "metadata": {},
   "outputs": [],
   "source": [
    "from selenium import webdriver\n",
    "from selenium.webdriver.common.by import By\n",
    "from bs4 import BeautifulSoup\n",
    "import time\n",
    "from selenium.webdriver.chrome.service import Service\n",
    "from chromedriver_py import binary_path\n",
    "import csv"
   ]
  },
  {
   "cell_type": "code",
   "execution_count": 3,
   "metadata": {},
   "outputs": [],
   "source": [
    "# Set your LinkedIn username and password\n",
    "\n",
    "# Creating a webdriver instance\n",
    "service_object = Service(binary_path)\n",
    "driver = webdriver.Chrome(service=service_object)\n",
    "# This instance will be used to log into LinkedIn\n",
    "\n",
    "# Opening linkedIn's login page\n",
    "driver.get(\"https://linkedin.com/uas/login\")\n",
    "\n",
    "# waiting for the page to load\n",
    "time.sleep(5)\n",
    "\n",
    "# entering username\n",
    "username = driver.find_element(By.ID, \"username\")\n",
    "\n",
    "# In case of an error, try changing the element\n",
    "# tag used here.\n",
    "\n",
    "# Enter Your Email Address\n",
    "username.send_keys(login.username)\n",
    "\n",
    "# entering password\n",
    "pword = driver.find_element(By.ID, \"password\")\n",
    "# In case of an error, try changing the element\n",
    "# tag used here.\n",
    "\n",
    "# Enter Your Password\n",
    "pword.send_keys(login.password)\t\n",
    "\n",
    "# Clicking on the log in button\n",
    "# Format (syntax) of writing XPath -->\n",
    "# //tagname[@attribute='value']\n",
    "driver.find_element(By.XPATH, \"//button[@type='submit']\").click()\n",
    "# In case of an error, try changing the\n",
    "# XPath used here.\n"
   ]
  },
  {
   "cell_type": "code",
   "execution_count": 4,
   "metadata": {},
   "outputs": [],
   "source": [
    "# Open Company people profile\n",
    "profile_url = \"https://www.linkedin.com/company/wood-mackenzie/people/\"\n",
    " \n",
    "driver.get(profile_url)        # this will open the link"
   ]
  },
  {
   "cell_type": "code",
   "execution_count": 5,
   "metadata": {},
   "outputs": [
    {
     "ename": "KeyboardInterrupt",
     "evalue": "",
     "output_type": "error",
     "traceback": [
      "\u001b[0;31m---------------------------------------------------------------------------\u001b[0m",
      "\u001b[0;31mKeyboardInterrupt\u001b[0m                         Traceback (most recent call last)",
      "Cell \u001b[0;32mIn[5], line 19\u001b[0m\n\u001b[1;32m     15\u001b[0m finalScroll \u001b[39m+\u001b[39m\u001b[39m=\u001b[39m \u001b[39m1000\u001b[39m\n\u001b[1;32m     17\u001b[0m \u001b[39m# we will stop the script for 3 seconds so that\u001b[39;00m\n\u001b[1;32m     18\u001b[0m \u001b[39m# the data can load\u001b[39;00m\n\u001b[0;32m---> 19\u001b[0m time\u001b[39m.\u001b[39;49msleep(\u001b[39m3\u001b[39;49m)\n\u001b[1;32m     20\u001b[0m \u001b[39m# You can change it as per your needs and internet speed\u001b[39;00m\n\u001b[1;32m     22\u001b[0m end \u001b[39m=\u001b[39m time\u001b[39m.\u001b[39mtime()\n",
      "\u001b[0;31mKeyboardInterrupt\u001b[0m: "
     ]
    }
   ],
   "source": [
    "# SCROLL PAGE\n",
    "start = time.time()\n",
    "\n",
    "# will be used in the while loop\n",
    "initialScroll = 0\n",
    "finalScroll = 1000\n",
    "\n",
    "while True:\n",
    "\tdriver.execute_script(f\"window.scrollTo({initialScroll},{finalScroll})\")\n",
    "\t# this command scrolls the window starting from\n",
    "\t# the pixel value stored in the initialScroll\n",
    "\t# variable to the pixel value stored at the\n",
    "\t# finalScroll variable\n",
    "\tinitialScroll = finalScroll\n",
    "\tfinalScroll += 1000\n",
    "\n",
    "\t# we will stop the script for 3 seconds so that\n",
    "\t# the data can load\n",
    "\ttime.sleep(3)\n",
    "\t# You can change it as per your needs and internet speed\n",
    "\n",
    "\tend = time.time()\n",
    "\n",
    "\t# We will scroll for 300 seconds.\n",
    "\t# You can change it as per your needs and internet speed\n",
    "\tif round(end - start) > 600:\n",
    "\t\tbreak\n"
   ]
  },
  {
   "cell_type": "code",
   "execution_count": 6,
   "metadata": {},
   "outputs": [],
   "source": [
    "src = driver.page_source\n",
    "\n",
    "# Now using beautiful soup\n",
    "soup = BeautifulSoup(src, 'lxml')"
   ]
  },
  {
   "cell_type": "code",
   "execution_count": 7,
   "metadata": {},
   "outputs": [
    {
     "name": "stdout",
     "output_type": "stream",
     "text": [
      "999\n"
     ]
    }
   ],
   "source": [
    "\n",
    "filename = 'linkedin_profiles.csv'\n",
    "directory = ''\n",
    "filepath = directory + filename\n",
    "# open a csv file for writing\n",
    "with open(filepath, 'w', newline='', encoding='utf-8') as f:\n",
    "    writer = csv.writer(f)\n",
    "\n",
    "    # write the header row\n",
    "    writer.writerow(['Name', 'Headline'])\n",
    "\n",
    "    # find all <li> elements with class \"grid grid__col--lg-8 block pt5 pr4 m0\"\n",
    "    li_elements = soup.find_all('li', class_='grid grid__col--lg-8 block pt5 pr4 m0')\n",
    "    print(len(li_elements))\n",
    "    # loop through each <li> element and extract the name and headline\n",
    "    for li in li_elements:\n",
    "        name_element = li.find('div', class_='org-people-profile-card__profile-title')\n",
    "        name = name_element.text.strip() if name_element else ''\n",
    "        headline_element = li.find('div', class_='artdeco-entity-lockup__subtitle')\n",
    "        headline = headline_element.text.strip() if headline_element else ''\n",
    "        writer.writerow([name, headline])\n",
    "\n"
   ]
  }
 ],
 "metadata": {
  "kernelspec": {
   "display_name": "Python 3",
   "language": "python",
   "name": "python3"
  },
  "language_info": {
   "codemirror_mode": {
    "name": "ipython",
    "version": 3
   },
   "file_extension": ".py",
   "mimetype": "text/x-python",
   "name": "python",
   "nbconvert_exporter": "python",
   "pygments_lexer": "ipython3",
   "version": "3.8.10"
  },
  "orig_nbformat": 4
 },
 "nbformat": 4,
 "nbformat_minor": 2
}
